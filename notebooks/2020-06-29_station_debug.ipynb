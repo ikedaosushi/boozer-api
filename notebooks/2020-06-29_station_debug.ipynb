{
 "cells": [
  {
   "cell_type": "code",
   "execution_count": 1,
   "metadata": {},
   "outputs": [],
   "source": [
    "import os"
   ]
  },
  {
   "cell_type": "code",
   "execution_count": 2,
   "metadata": {},
   "outputs": [],
   "source": [
    "import pandas as pd\n",
    "from dotenv import load_dotenv"
   ]
  },
  {
   "cell_type": "code",
   "execution_count": 3,
   "metadata": {},
   "outputs": [],
   "source": [
    "load_dotenv(\"../.env\");"
   ]
  },
  {
   "cell_type": "code",
   "execution_count": 4,
   "metadata": {},
   "outputs": [],
   "source": [
    "station = pd.read_csv(\"../master_data/station20200619free.csv\")"
   ]
  },
  {
   "cell_type": "code",
   "execution_count": 5,
   "metadata": {},
   "outputs": [],
   "source": [
    "available_prefs = [8, 9, 10, 11, 12, 13, 14]"
   ]
  },
  {
   "cell_type": "code",
   "execution_count": 27,
   "metadata": {},
   "outputs": [],
   "source": [
    "available_stations = station.drop_duplicates(\"station_g_cd\").query(\"pref_cd in @available_prefs\")"
   ]
  },
  {
   "cell_type": "code",
   "execution_count": 5,
   "metadata": {},
   "outputs": [],
   "source": [
    "import requests"
   ]
  },
  {
   "cell_type": "code",
   "execution_count": 8,
   "metadata": {},
   "outputs": [],
   "source": [
    "url = \"http://api.ekispert.jp/v1/json/station\""
   ]
  },
  {
   "cell_type": "code",
   "execution_count": 9,
   "metadata": {},
   "outputs": [],
   "source": [
    "name = available_stations['station_name'].tolist()[0]"
   ]
  },
  {
   "cell_type": "code",
   "execution_count": 10,
   "metadata": {},
   "outputs": [],
   "source": [
    "bsae_payloads = dict(type=\"train\", limit=1, key=os.environ[\"EKISPORT_KEY\"])"
   ]
  },
  {
   "cell_type": "code",
   "execution_count": 6,
   "metadata": {},
   "outputs": [],
   "source": [
    "from time import sleep\n",
    "from tqdm import tqdm"
   ]
  },
  {
   "cell_type": "code",
   "execution_count": null,
   "metadata": {},
   "outputs": [],
   "source": [
    "station_cd_name = {}"
   ]
  },
  {
   "cell_type": "code",
   "execution_count": 14,
   "metadata": {},
   "outputs": [
    {
     "name": "stderr",
     "output_type": "stream",
     "text": [
      "\r",
      "0it [00:00, ?it/s]"
     ]
    },
    {
     "name": "stdout",
     "output_type": "stream",
     "text": [
      "error 空港第２ビル（第２旅客ターミナル）\n"
     ]
    },
    {
     "name": "stderr",
     "output_type": "stream",
     "text": [
      "\r",
      "577it [00:00, 600.43it/s]"
     ]
    },
    {
     "name": "stdout",
     "output_type": "stream",
     "text": [
      "error 成田空港（第１旅客ターミナル）\n"
     ]
    },
    {
     "name": "stderr",
     "output_type": "stream",
     "text": [
      "\r",
      "596it [00:01, 88.04it/s] "
     ]
    },
    {
     "name": "stdout",
     "output_type": "stream",
     "text": [
      "error 空港第２ビル（第２旅客ターミナル）\n"
     ]
    },
    {
     "name": "stderr",
     "output_type": "stream",
     "text": [
      "\r",
      "621it [00:02, 64.04it/s]"
     ]
    },
    {
     "name": "stdout",
     "output_type": "stream",
     "text": [
      "error 成田空港（第１旅客ターミナル）\n",
      "error 鹿島サッカースタジアム（臨）\n"
     ]
    },
    {
     "name": "stderr",
     "output_type": "stream",
     "text": [
      "\r",
      "632it [00:03, 21.16it/s]"
     ]
    },
    {
     "name": "stdout",
     "output_type": "stream",
     "text": [
      "error 押上〈スカイツリー前〉\n"
     ]
    },
    {
     "name": "stderr",
     "output_type": "stream",
     "text": [
      "\r",
      "872it [00:04, 29.44it/s]"
     ]
    },
    {
     "name": "stdout",
     "output_type": "stream",
     "text": [
      "error 獨協大学前〈草加松原〉\n"
     ]
    },
    {
     "name": "stderr",
     "output_type": "stream",
     "text": [
      "1199it [01:47,  1.47it/s]"
     ]
    },
    {
     "name": "stdout",
     "output_type": "stream",
     "text": [
      "error 空港第２ビル（第２旅客ターミナル）\n"
     ]
    },
    {
     "name": "stderr",
     "output_type": "stream",
     "text": [
      "\r",
      "1200it [01:48,  1.49it/s]"
     ]
    },
    {
     "name": "stdout",
     "output_type": "stream",
     "text": [
      "error 成田空港（第１旅客ターミナル）\n"
     ]
    },
    {
     "name": "stderr",
     "output_type": "stream",
     "text": [
      "\r",
      "1201it [01:48,  1.48it/s]"
     ]
    },
    {
     "name": "stdout",
     "output_type": "stream",
     "text": [
      "error 押上（スカイツリー前）\n"
     ]
    },
    {
     "name": "stderr",
     "output_type": "stream",
     "text": [
      "1236it [02:13,  1.41it/s]"
     ]
    },
    {
     "name": "stdout",
     "output_type": "stream",
     "text": [
      "error 空港第２ビル（第２旅客ターミナル）\n"
     ]
    },
    {
     "name": "stderr",
     "output_type": "stream",
     "text": [
      "\r",
      "1237it [02:14,  1.44it/s]"
     ]
    },
    {
     "name": "stdout",
     "output_type": "stream",
     "text": [
      "error 成田空港（第１旅客ターミナル）\n"
     ]
    },
    {
     "name": "stderr",
     "output_type": "stream",
     "text": [
      "1294it [02:58,  1.02it/s]"
     ]
    },
    {
     "name": "stdout",
     "output_type": "stream",
     "text": [
      "error 新線新宿\n"
     ]
    },
    {
     "name": "stderr",
     "output_type": "stream",
     "text": [
      "1686it [07:52,  1.39it/s]"
     ]
    },
    {
     "name": "stdout",
     "output_type": "stream",
     "text": [
      "error 明治神宮前〈原宿〉\n"
     ]
    },
    {
     "name": "stderr",
     "output_type": "stream",
     "text": [
      "1726it [08:21,  1.18it/s]"
     ]
    },
    {
     "name": "stdout",
     "output_type": "stream",
     "text": [
      "error 押上〈スカイツリー前〉\n"
     ]
    },
    {
     "name": "stderr",
     "output_type": "stream",
     "text": [
      "1760it [08:46,  1.36it/s]"
     ]
    },
    {
     "name": "stdout",
     "output_type": "stream",
     "text": [
      "error 明治神宮前〈原宿〉\n"
     ]
    },
    {
     "name": "stderr",
     "output_type": "stream",
     "text": [
      "1847it [09:55,  1.38it/s]"
     ]
    },
    {
     "name": "stdout",
     "output_type": "stream",
     "text": [
      "error 押上（スカイツリー前）\n"
     ]
    },
    {
     "name": "stderr",
     "output_type": "stream",
     "text": [
      "2174it [13:59,  1.44it/s]"
     ]
    },
    {
     "name": "stdout",
     "output_type": "stream",
     "text": [
      "error 鉾田\n"
     ]
    },
    {
     "name": "stderr",
     "output_type": "stream",
     "text": [
      "2176it [14:00,  1.45it/s]"
     ]
    },
    {
     "name": "stdout",
     "output_type": "stream",
     "text": [
      "error 巴川\n"
     ]
    },
    {
     "name": "stderr",
     "output_type": "stream",
     "text": [
      "\r",
      "2177it [14:01,  1.30it/s]"
     ]
    },
    {
     "name": "stdout",
     "output_type": "stream",
     "text": [
      "error 借宿前\n"
     ]
    },
    {
     "name": "stderr",
     "output_type": "stream",
     "text": [
      "\r",
      "2178it [14:03,  1.06s/it]"
     ]
    },
    {
     "name": "stdout",
     "output_type": "stream",
     "text": [
      "error 榎本\n"
     ]
    },
    {
     "name": "stderr",
     "output_type": "stream",
     "text": [
      "\r",
      "2179it [14:04,  1.04s/it]"
     ]
    },
    {
     "name": "stdout",
     "output_type": "stream",
     "text": [
      "error 玉造町\n"
     ]
    },
    {
     "name": "stderr",
     "output_type": "stream",
     "text": [
      "2181it [14:06,  1.07s/it]"
     ]
    },
    {
     "name": "stdout",
     "output_type": "stream",
     "text": [
      "error 八木蒔\n"
     ]
    },
    {
     "name": "stderr",
     "output_type": "stream",
     "text": [
      "\r",
      "2182it [14:07,  1.04it/s]"
     ]
    },
    {
     "name": "stdout",
     "output_type": "stream",
     "text": [
      "error 桃浦\n"
     ]
    },
    {
     "name": "stderr",
     "output_type": "stream",
     "text": [
      "\r",
      "2183it [14:08,  1.14it/s]"
     ]
    },
    {
     "name": "stdout",
     "output_type": "stream",
     "text": [
      "error 小川高校下\n"
     ]
    },
    {
     "name": "stderr",
     "output_type": "stream",
     "text": [
      "\r",
      "2184it [14:09,  1.22it/s]"
     ]
    },
    {
     "name": "stdout",
     "output_type": "stream",
     "text": [
      "error 常陸小川\n"
     ]
    },
    {
     "name": "stderr",
     "output_type": "stream",
     "text": [
      "\r",
      "2185it [14:09,  1.28it/s]"
     ]
    },
    {
     "name": "stdout",
     "output_type": "stream",
     "text": [
      "error 四箇村\n"
     ]
    },
    {
     "name": "stderr",
     "output_type": "stream",
     "text": [
      "\r",
      "2186it [14:10,  1.32it/s]"
     ]
    },
    {
     "name": "stdout",
     "output_type": "stream",
     "text": [
      "error 新高浜\n"
     ]
    },
    {
     "name": "stderr",
     "output_type": "stream",
     "text": [
      "\r",
      "2187it [14:11,  1.34it/s]"
     ]
    },
    {
     "name": "stdout",
     "output_type": "stream",
     "text": [
      "error 玉里\n"
     ]
    },
    {
     "name": "stderr",
     "output_type": "stream",
     "text": [
      "\r",
      "2188it [14:11,  1.36it/s]"
     ]
    },
    {
     "name": "stdout",
     "output_type": "stream",
     "text": [
      "error 東田中\n"
     ]
    },
    {
     "name": "stderr",
     "output_type": "stream",
     "text": [
      "\r",
      "2189it [14:12,  1.39it/s]"
     ]
    },
    {
     "name": "stdout",
     "output_type": "stream",
     "text": [
      "error 石岡南台\n"
     ]
    },
    {
     "name": "stderr",
     "output_type": "stream",
     "text": [
      "2205it [14:26,  1.07it/s]"
     ]
    },
    {
     "name": "stdout",
     "output_type": "stream",
     "text": [
      "error 鹿島サッカースタジアム（臨）\n"
     ]
    },
    {
     "name": "stderr",
     "output_type": "stream",
     "text": [
      "2465it [17:52,  2.30it/s]\n"
     ]
    }
   ],
   "source": [
    "for i, row in tqdm(available_stations.iterrows()):\n",
    "    station_cd = row[\"station_cd\"]\n",
    "    if station_cd in station_cd_name:\n",
    "        continue\n",
    "    \n",
    "    station_name = row[\"station_name\"]\n",
    "    payloads = {\"name\": station_name, **bsae_payloads}\n",
    "    res = requests.get(url, params=payloads).json()\n",
    "    try:\n",
    "        station_cd_name[station_cd] = res[\"ResultSet\"]['Point']['Station']['code']\n",
    "    except KeyError:\n",
    "        print(f\"error {station_name}\")\n",
    "    sleep(0.5)"
   ]
  },
  {
   "cell_type": "code",
   "execution_count": 28,
   "metadata": {},
   "outputs": [],
   "source": [
    "available_stations[\"station_id\"] = available_stations[\"station_cd\"].map(station_cd_name)"
   ]
  },
  {
   "cell_type": "code",
   "execution_count": 36,
   "metadata": {},
   "outputs": [],
   "source": [
    "available_stations = available_stations.dropna(subset=[\"station_id\"])"
   ]
  },
  {
   "cell_type": "code",
   "execution_count": 40,
   "metadata": {},
   "outputs": [
    {
     "name": "stderr",
     "output_type": "stream",
     "text": [
      "<ipython-input-40-ec57f4f98003>:1: SettingWithCopyWarning: \n",
      "A value is trying to be set on a copy of a slice from a DataFrame.\n",
      "Try using .loc[row_indexer,col_indexer] = value instead\n",
      "\n",
      "See the caveats in the documentation: https://pandas.pydata.org/pandas-docs/stable/user_guide/indexing.html#returning-a-view-versus-a-copy\n",
      "  available_stations[\"station_id\"] = available_stations[\"station_id\"].astype(int)\n"
     ]
    }
   ],
   "source": [
    "available_stations[\"station_id\"] = available_stations[\"station_id\"].astype(int)"
   ]
  },
  {
   "cell_type": "code",
   "execution_count": 44,
   "metadata": {},
   "outputs": [],
   "source": [
    "pd.DataFrame.duplicated?"
   ]
  },
  {
   "cell_type": "code",
   "execution_count": 43,
   "metadata": {},
   "outputs": [
    {
     "name": "stdout",
     "output_type": "stream",
     "text": [
      "Object `duplicated` not found.\n"
     ]
    }
   ],
   "source": [
    "available_stations[\"station_id\"].duplicated?"
   ]
  },
  {
   "cell_type": "code",
   "execution_count": 47,
   "metadata": {},
   "outputs": [],
   "source": [
    "available_stations = available_stations.drop_duplicates(subset=['station_id'])"
   ]
  },
  {
   "cell_type": "code",
   "execution_count": 48,
   "metadata": {},
   "outputs": [
    {
     "data": {
      "text/html": [
       "<div>\n",
       "<style scoped>\n",
       "    .dataframe tbody tr th:only-of-type {\n",
       "        vertical-align: middle;\n",
       "    }\n",
       "\n",
       "    .dataframe tbody tr th {\n",
       "        vertical-align: top;\n",
       "    }\n",
       "\n",
       "    .dataframe thead th {\n",
       "        text-align: right;\n",
       "    }\n",
       "</style>\n",
       "<table border=\"1\" class=\"dataframe\">\n",
       "  <thead>\n",
       "    <tr style=\"text-align: right;\">\n",
       "      <th></th>\n",
       "      <th>station_cd</th>\n",
       "      <th>station_g_cd</th>\n",
       "      <th>station_name</th>\n",
       "      <th>station_name_k</th>\n",
       "      <th>station_name_r</th>\n",
       "      <th>line_cd</th>\n",
       "      <th>pref_cd</th>\n",
       "      <th>post</th>\n",
       "      <th>address</th>\n",
       "      <th>lon</th>\n",
       "      <th>lat</th>\n",
       "      <th>open_ymd</th>\n",
       "      <th>close_ymd</th>\n",
       "      <th>e_status</th>\n",
       "      <th>e_sort</th>\n",
       "      <th>station_id</th>\n",
       "    </tr>\n",
       "  </thead>\n",
       "  <tbody>\n",
       "    <tr>\n",
       "      <th>1177</th>\n",
       "      <td>1123101</td>\n",
       "      <td>1123101</td>\n",
       "      <td>黒磯</td>\n",
       "      <td>NaN</td>\n",
       "      <td>NaN</td>\n",
       "      <td>11231</td>\n",
       "      <td>9</td>\n",
       "      <td>325-0056</td>\n",
       "      <td>那須塩原市本町</td>\n",
       "      <td>140.060204</td>\n",
       "      <td>36.970128</td>\n",
       "      <td>0000-00-00</td>\n",
       "      <td>0000-00-00</td>\n",
       "      <td>0</td>\n",
       "      <td>1123101</td>\n",
       "      <td>21764</td>\n",
       "    </tr>\n",
       "    <tr>\n",
       "      <th>1178</th>\n",
       "      <td>1123102</td>\n",
       "      <td>1123102</td>\n",
       "      <td>高久</td>\n",
       "      <td>NaN</td>\n",
       "      <td>NaN</td>\n",
       "      <td>11231</td>\n",
       "      <td>9</td>\n",
       "      <td>325-0001</td>\n",
       "      <td>那須郡那須町大字高久甲西久保７２０-４</td>\n",
       "      <td>140.087346</td>\n",
       "      <td>36.996572</td>\n",
       "      <td>0000-00-00</td>\n",
       "      <td>0000-00-00</td>\n",
       "      <td>0</td>\n",
       "      <td>1123102</td>\n",
       "      <td>21785</td>\n",
       "    </tr>\n",
       "    <tr>\n",
       "      <th>1179</th>\n",
       "      <td>1123103</td>\n",
       "      <td>1123103</td>\n",
       "      <td>黒田原</td>\n",
       "      <td>NaN</td>\n",
       "      <td>NaN</td>\n",
       "      <td>11231</td>\n",
       "      <td>9</td>\n",
       "      <td>329-3222</td>\n",
       "      <td>那須郡那須町大字寺子丙</td>\n",
       "      <td>140.119586</td>\n",
       "      <td>37.022848</td>\n",
       "      <td>0000-00-00</td>\n",
       "      <td>0000-00-00</td>\n",
       "      <td>0</td>\n",
       "      <td>1123103</td>\n",
       "      <td>21765</td>\n",
       "    </tr>\n",
       "    <tr>\n",
       "      <th>1180</th>\n",
       "      <td>1123104</td>\n",
       "      <td>1123104</td>\n",
       "      <td>豊原</td>\n",
       "      <td>NaN</td>\n",
       "      <td>NaN</td>\n",
       "      <td>11231</td>\n",
       "      <td>9</td>\n",
       "      <td>329-3213</td>\n",
       "      <td>那須郡那須町大字豊原</td>\n",
       "      <td>140.155066</td>\n",
       "      <td>37.055014</td>\n",
       "      <td>0000-00-00</td>\n",
       "      <td>0000-00-00</td>\n",
       "      <td>0</td>\n",
       "      <td>1123104</td>\n",
       "      <td>21802</td>\n",
       "    </tr>\n",
       "    <tr>\n",
       "      <th>1262</th>\n",
       "      <td>1130101</td>\n",
       "      <td>1130101</td>\n",
       "      <td>東京</td>\n",
       "      <td>NaN</td>\n",
       "      <td>NaN</td>\n",
       "      <td>11301</td>\n",
       "      <td>13</td>\n",
       "      <td>100-0005</td>\n",
       "      <td>東京都千代田区丸の内一丁目</td>\n",
       "      <td>139.766103</td>\n",
       "      <td>35.681391</td>\n",
       "      <td>0000-00-00</td>\n",
       "      <td>0000-00-00</td>\n",
       "      <td>0</td>\n",
       "      <td>1130101</td>\n",
       "      <td>22828</td>\n",
       "    </tr>\n",
       "  </tbody>\n",
       "</table>\n",
       "</div>"
      ],
      "text/plain": [
       "      station_cd  station_g_cd station_name  station_name_k  station_name_r  \\\n",
       "1177     1123101       1123101           黒磯             NaN             NaN   \n",
       "1178     1123102       1123102           高久             NaN             NaN   \n",
       "1179     1123103       1123103          黒田原             NaN             NaN   \n",
       "1180     1123104       1123104           豊原             NaN             NaN   \n",
       "1262     1130101       1130101           東京             NaN             NaN   \n",
       "\n",
       "      line_cd  pref_cd      post              address         lon        lat  \\\n",
       "1177    11231        9  325-0056              那須塩原市本町  140.060204  36.970128   \n",
       "1178    11231        9  325-0001  那須郡那須町大字高久甲西久保７２０-４  140.087346  36.996572   \n",
       "1179    11231        9  329-3222          那須郡那須町大字寺子丙  140.119586  37.022848   \n",
       "1180    11231        9  329-3213           那須郡那須町大字豊原  140.155066  37.055014   \n",
       "1262    11301       13  100-0005        東京都千代田区丸の内一丁目  139.766103  35.681391   \n",
       "\n",
       "        open_ymd   close_ymd  e_status   e_sort  station_id  \n",
       "1177  0000-00-00  0000-00-00         0  1123101       21764  \n",
       "1178  0000-00-00  0000-00-00         0  1123102       21785  \n",
       "1179  0000-00-00  0000-00-00         0  1123103       21765  \n",
       "1180  0000-00-00  0000-00-00         0  1123104       21802  \n",
       "1262  0000-00-00  0000-00-00         0  1130101       22828  "
      ]
     },
     "execution_count": 48,
     "metadata": {},
     "output_type": "execute_result"
    }
   ],
   "source": [
    "available_stations.head()"
   ]
  },
  {
   "cell_type": "code",
   "execution_count": 51,
   "metadata": {},
   "outputs": [
    {
     "data": {
      "text/html": [
       "<div>\n",
       "<style scoped>\n",
       "    .dataframe tbody tr th:only-of-type {\n",
       "        vertical-align: middle;\n",
       "    }\n",
       "\n",
       "    .dataframe tbody tr th {\n",
       "        vertical-align: top;\n",
       "    }\n",
       "\n",
       "    .dataframe thead th {\n",
       "        text-align: right;\n",
       "    }\n",
       "</style>\n",
       "<table border=\"1\" class=\"dataframe\">\n",
       "  <thead>\n",
       "    <tr style=\"text-align: right;\">\n",
       "      <th></th>\n",
       "      <th>station_id</th>\n",
       "      <th>station_name</th>\n",
       "      <th>lon</th>\n",
       "      <th>lat</th>\n",
       "    </tr>\n",
       "  </thead>\n",
       "  <tbody>\n",
       "    <tr>\n",
       "      <th>1888</th>\n",
       "      <td>20325</td>\n",
       "      <td>千歳</td>\n",
       "      <td>139.966378</td>\n",
       "      <td>34.991701</td>\n",
       "    </tr>\n",
       "    <tr>\n",
       "      <th>7875</th>\n",
       "      <td>21358</td>\n",
       "      <td>中川</td>\n",
       "      <td>139.569846</td>\n",
       "      <td>35.562973</td>\n",
       "    </tr>\n",
       "    <tr>\n",
       "      <th>1721</th>\n",
       "      <td>21579</td>\n",
       "      <td>赤塚</td>\n",
       "      <td>140.415248</td>\n",
       "      <td>36.381755</td>\n",
       "    </tr>\n",
       "    <tr>\n",
       "      <th>7864</th>\n",
       "      <td>21580</td>\n",
       "      <td>阿字ヶ浦</td>\n",
       "      <td>140.612440</td>\n",
       "      <td>36.383529</td>\n",
       "    </tr>\n",
       "    <tr>\n",
       "      <th>1712</th>\n",
       "      <td>21582</td>\n",
       "      <td>荒川沖</td>\n",
       "      <td>140.165920</td>\n",
       "      <td>36.030552</td>\n",
       "    </tr>\n",
       "    <tr>\n",
       "      <th>...</th>\n",
       "      <td>...</td>\n",
       "      <td>...</td>\n",
       "      <td>...</td>\n",
       "      <td>...</td>\n",
       "    </tr>\n",
       "    <tr>\n",
       "      <th>7735</th>\n",
       "      <td>29776</td>\n",
       "      <td>ソシオ流通センター</td>\n",
       "      <td>139.424333</td>\n",
       "      <td>36.136500</td>\n",
       "    </tr>\n",
       "    <tr>\n",
       "      <th>7744</th>\n",
       "      <td>29777</td>\n",
       "      <td>ふかや花園</td>\n",
       "      <td>139.251472</td>\n",
       "      <td>36.132056</td>\n",
       "    </tr>\n",
       "    <tr>\n",
       "      <th>5256</th>\n",
       "      <td>29784</td>\n",
       "      <td>東武ワールドスクウェア</td>\n",
       "      <td>139.709083</td>\n",
       "      <td>36.808333</td>\n",
       "    </tr>\n",
       "    <tr>\n",
       "      <th>2156</th>\n",
       "      <td>29791</td>\n",
       "      <td>あしかがフラワーパーク</td>\n",
       "      <td>139.518611</td>\n",
       "      <td>36.315167</td>\n",
       "    </tr>\n",
       "    <tr>\n",
       "      <th>1311</th>\n",
       "      <td>29818</td>\n",
       "      <td>高輪ゲートウェイ</td>\n",
       "      <td>139.740700</td>\n",
       "      <td>35.635500</td>\n",
       "    </tr>\n",
       "  </tbody>\n",
       "</table>\n",
       "<p>1861 rows × 4 columns</p>\n",
       "</div>"
      ],
      "text/plain": [
       "      station_id station_name         lon        lat\n",
       "1888       20325           千歳  139.966378  34.991701\n",
       "7875       21358           中川  139.569846  35.562973\n",
       "1721       21579           赤塚  140.415248  36.381755\n",
       "7864       21580         阿字ヶ浦  140.612440  36.383529\n",
       "1712       21582          荒川沖  140.165920  36.030552\n",
       "...          ...          ...         ...        ...\n",
       "7735       29776    ソシオ流通センター  139.424333  36.136500\n",
       "7744       29777        ふかや花園  139.251472  36.132056\n",
       "5256       29784  東武ワールドスクウェア  139.709083  36.808333\n",
       "2156       29791  あしかがフラワーパーク  139.518611  36.315167\n",
       "1311       29818     高輪ゲートウェイ  139.740700  35.635500\n",
       "\n",
       "[1861 rows x 4 columns]"
      ]
     },
     "execution_count": 51,
     "metadata": {},
     "output_type": "execute_result"
    }
   ],
   "source": [
    "available_stations[['station_id', 'station_name', 'lon', 'lat']].sort_values(\"station_id\")"
   ]
  },
  {
   "cell_type": "code",
   "execution_count": 50,
   "metadata": {},
   "outputs": [],
   "source": [
    "available_stations[['station_id', 'station_name', 'lon', 'lat']].to_csv(\"stations.csv\", index=False)"
   ]
  },
  {
   "cell_type": "code",
   "execution_count": 189,
   "metadata": {},
   "outputs": [
    {
     "name": "stdout",
     "output_type": "stream",
     "text": [
      "Stored 'available_stations' (DataFrame)\n"
     ]
    }
   ],
   "source": [
    "%store available_stations"
   ]
  },
  {
   "cell_type": "code",
   "execution_count": 7,
   "metadata": {},
   "outputs": [],
   "source": [
    "%store -r available_stations"
   ]
  },
  {
   "cell_type": "code",
   "execution_count": 8,
   "metadata": {},
   "outputs": [],
   "source": [
    "station_ids = [22828, 22715]\n",
    "station_id = station_ids[0]"
   ]
  },
  {
   "cell_type": "code",
   "execution_count": 9,
   "metadata": {},
   "outputs": [],
   "source": [
    "from geopy import distance"
   ]
  },
  {
   "cell_type": "code",
   "execution_count": 10,
   "metadata": {},
   "outputs": [],
   "source": []
  },
  {
   "cell_type": "code",
   "execution_count": 11,
   "metadata": {},
   "outputs": [
    {
     "data": {
      "text/plain": [
       "(35.670131, 139.73367050000002)"
      ]
     },
     "execution_count": 11,
     "metadata": {},
     "output_type": "execute_result"
    }
   ],
   "source": [
    "halfway_coords"
   ]
  },
  {
   "cell_type": "code",
   "execution_count": 13,
   "metadata": {},
   "outputs": [],
   "source": [
    "candidate_stations = available_stations.query(\"station_id in @station_ids\")\n",
    "halfway_coords = candidate_stations['lat'].mean(), candidate_stations['lon'].mean()\n",
    "ds = []\n",
    "for coords in available_stations[['lat', 'lon']].values:\n",
    "    d = distance.distance(halfway_coords, coords.tolist())\n",
    "    ds.append(d)\n",
    "available_stations['distance'] = ds"
   ]
  },
  {
   "cell_type": "code",
   "execution_count": 50,
   "metadata": {},
   "outputs": [],
   "source": [
    "for i, row in available_stations.iterrows():\n",
    "    break"
   ]
  },
  {
   "cell_type": "code",
   "execution_count": 54,
   "metadata": {},
   "outputs": [
    {
     "data": {
      "text/plain": [
       "station_id    21764\n",
       "Name: 1177, dtype: object"
      ]
     },
     "execution_count": 54,
     "metadata": {},
     "output_type": "execute_result"
    }
   ],
   "source": [
    "row[['station_id', 'station_name']].drop(\"station_name\")"
   ]
  },
  {
   "cell_type": "code",
   "execution_count": 14,
   "metadata": {},
   "outputs": [],
   "source": [
    "from requests_html import HTMLSession\n",
    "import re\n",
    "session = HTMLSession()\n",
    "url = \"https://roote.ekispert.net/ja/result\"\n",
    "base_params = dict(\n",
    "    hour=12,\n",
    "    locale=\"ja\",\n",
    "    minute10=0,\n",
    "    minute1=0,\n",
    "    sort=\"time\"\n",
    ")"
   ]
  },
  {
   "cell_type": "code",
   "execution_count": 15,
   "metadata": {},
   "outputs": [],
   "source": [
    "from requests_html import AsyncHTMLSession\n",
    "asession = AsyncHTMLSession()"
   ]
  },
  {
   "cell_type": "code",
   "execution_count": 36,
   "metadata": {},
   "outputs": [],
   "source": [
    "def partial_get_time(arr_station_id, dep_station_id):\n",
    "    params = dict(**base_params, arr_code=arr_station_id, dep_code=dep_station_id)\n",
    "    async def get_time():\n",
    "        res = await asession.get(url, params=params)\n",
    "        target_text = res.html.find('.candidate_list_txt > .orange_txt', first=True).text\n",
    "        time = int(re.search(r'（\\D*(\\d+)分）', target_text).groups()[0])\n",
    "        return arr_station_id, time\n",
    "    return get_time"
   ]
  },
  {
   "cell_type": "code",
   "execution_count": 25,
   "metadata": {},
   "outputs": [],
   "source": [
    "import nest_asyncio\n",
    "nest_asyncio.apply()"
   ]
  },
  {
   "cell_type": "code",
   "execution_count": 49,
   "metadata": {},
   "outputs": [
    {
     "data": {
      "text/plain": [
       "[22828, 22715]"
      ]
     },
     "execution_count": 49,
     "metadata": {},
     "output_type": "execute_result"
    }
   ],
   "source": [
    "station_ids"
   ]
  },
  {
   "cell_type": "code",
   "execution_count": 46,
   "metadata": {},
   "outputs": [],
   "source": [
    "results = []\n",
    "for _, row in available_stations.sort_values('distance')[['station_id', 'station_name', 'distance']].head(10).iterrows():\n",
    "    candidate_station_id = row['station_id']\n",
    "    result = dict(candidate_station_id=candidate_station_id)\n",
    "    for station_id in station_ids:\n",
    "        staion_times = asession.run(*[partial_get_time(station_id, candidate_station_id) for station_id in station_ids])\n",
    "        result['staion_times'] = [dict(station_id=t[0], time=t[1]) for t in staion_times]\n",
    "        times = [r['time'] for r in result['staion_times']]\n",
    "        sum_ = sum(times)\n",
    "        diff = max(times) - min(times)\n",
    "        result['indicater'] = sum_ + diff\n",
    "    results.append(result)\n",
    "    \n",
    "results = sorted(results, key=lambda result: result['indicater'])"
   ]
  }
 ],
 "metadata": {
  "kernelspec": {
   "display_name": "Python 3",
   "language": "python",
   "name": "python3"
  },
  "language_info": {
   "codemirror_mode": {
    "name": "ipython",
    "version": 3
   },
   "file_extension": ".py",
   "mimetype": "text/x-python",
   "name": "python",
   "nbconvert_exporter": "python",
   "pygments_lexer": "ipython3",
   "version": "3.8.2"
  }
 },
 "nbformat": 4,
 "nbformat_minor": 4
}
