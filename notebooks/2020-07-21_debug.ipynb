{
 "cells": [
  {
   "cell_type": "code",
   "execution_count": 4,
   "metadata": {},
   "outputs": [],
   "source": [
    "from django_pandas.io import read_frame"
   ]
  },
  {
   "cell_type": "code",
   "execution_count": 1,
   "metadata": {},
   "outputs": [],
   "source": [
    "from apiv1.models import Station"
   ]
  },
  {
   "cell_type": "code",
   "execution_count": 2,
   "metadata": {},
   "outputs": [],
   "source": [
    "import os"
   ]
  },
  {
   "cell_type": "code",
   "execution_count": 3,
   "metadata": {},
   "outputs": [],
   "source": [
    "os.environ[\"DJANGO_ALLOW_ASYNC_UNSAFE\"] = \"true\""
   ]
  },
  {
   "cell_type": "code",
   "execution_count": 6,
   "metadata": {},
   "outputs": [],
   "source": [
    "df_stations = read_frame(Station.objects.all())"
   ]
  },
  {
   "cell_type": "code",
   "execution_count": 7,
   "metadata": {},
   "outputs": [],
   "source": [
    "station_ids = [1362, 1279]"
   ]
  },
  {
   "cell_type": "code",
   "execution_count": 10,
   "metadata": {},
   "outputs": [
    {
     "data": {
      "text/html": [
       "<div>\n",
       "<style scoped>\n",
       "    .dataframe tbody tr th:only-of-type {\n",
       "        vertical-align: middle;\n",
       "    }\n",
       "\n",
       "    .dataframe tbody tr th {\n",
       "        vertical-align: top;\n",
       "    }\n",
       "\n",
       "    .dataframe thead th {\n",
       "        text-align: right;\n",
       "    }\n",
       "</style>\n",
       "<table border=\"1\" class=\"dataframe\">\n",
       "  <thead>\n",
       "    <tr style=\"text-align: right;\">\n",
       "      <th></th>\n",
       "      <th>id</th>\n",
       "      <th>station_id</th>\n",
       "      <th>station_name</th>\n",
       "      <th>lon</th>\n",
       "      <th>lat</th>\n",
       "      <th>tabelog_url</th>\n",
       "      <th>top10_avarage_score</th>\n",
       "      <th>num_shop</th>\n",
       "    </tr>\n",
       "  </thead>\n",
       "  <tbody>\n",
       "    <tr>\n",
       "      <th>0</th>\n",
       "      <td>1</td>\n",
       "      <td>21764</td>\n",
       "      <td>黒磯</td>\n",
       "      <td>140.060204</td>\n",
       "      <td>36.970128</td>\n",
       "      <td>None</td>\n",
       "      <td>NaN</td>\n",
       "      <td>NaN</td>\n",
       "    </tr>\n",
       "    <tr>\n",
       "      <th>1</th>\n",
       "      <td>2</td>\n",
       "      <td>21785</td>\n",
       "      <td>高久</td>\n",
       "      <td>140.087346</td>\n",
       "      <td>36.996572</td>\n",
       "      <td>None</td>\n",
       "      <td>NaN</td>\n",
       "      <td>NaN</td>\n",
       "    </tr>\n",
       "    <tr>\n",
       "      <th>2</th>\n",
       "      <td>3</td>\n",
       "      <td>21765</td>\n",
       "      <td>黒田原</td>\n",
       "      <td>140.119586</td>\n",
       "      <td>37.022848</td>\n",
       "      <td>None</td>\n",
       "      <td>NaN</td>\n",
       "      <td>NaN</td>\n",
       "    </tr>\n",
       "    <tr>\n",
       "      <th>3</th>\n",
       "      <td>4</td>\n",
       "      <td>21802</td>\n",
       "      <td>豊原</td>\n",
       "      <td>140.155066</td>\n",
       "      <td>37.055014</td>\n",
       "      <td>None</td>\n",
       "      <td>NaN</td>\n",
       "      <td>NaN</td>\n",
       "    </tr>\n",
       "    <tr>\n",
       "      <th>4</th>\n",
       "      <td>5</td>\n",
       "      <td>22828</td>\n",
       "      <td>東京</td>\n",
       "      <td>139.766103</td>\n",
       "      <td>35.681391</td>\n",
       "      <td>https://tabelog.com/tokyo/A1302/A130201/R6586/...</td>\n",
       "      <td>3.942</td>\n",
       "      <td>2997.0</td>\n",
       "    </tr>\n",
       "    <tr>\n",
       "      <th>...</th>\n",
       "      <td>...</td>\n",
       "      <td>...</td>\n",
       "      <td>...</td>\n",
       "      <td>...</td>\n",
       "      <td>...</td>\n",
       "      <td>...</td>\n",
       "      <td>...</td>\n",
       "      <td>...</td>\n",
       "    </tr>\n",
       "    <tr>\n",
       "      <th>1856</th>\n",
       "      <td>1857</td>\n",
       "      <td>29728</td>\n",
       "      <td>公園下</td>\n",
       "      <td>139.045639</td>\n",
       "      <td>35.249944</td>\n",
       "      <td>None</td>\n",
       "      <td>NaN</td>\n",
       "      <td>NaN</td>\n",
       "    </tr>\n",
       "    <tr>\n",
       "      <th>1857</th>\n",
       "      <td>1858</td>\n",
       "      <td>29729</td>\n",
       "      <td>公園上</td>\n",
       "      <td>139.043167</td>\n",
       "      <td>35.249083</td>\n",
       "      <td>None</td>\n",
       "      <td>NaN</td>\n",
       "      <td>NaN</td>\n",
       "    </tr>\n",
       "    <tr>\n",
       "      <th>1858</th>\n",
       "      <td>1859</td>\n",
       "      <td>29730</td>\n",
       "      <td>中強羅</td>\n",
       "      <td>139.040556</td>\n",
       "      <td>35.248167</td>\n",
       "      <td>None</td>\n",
       "      <td>NaN</td>\n",
       "      <td>NaN</td>\n",
       "    </tr>\n",
       "    <tr>\n",
       "      <th>1859</th>\n",
       "      <td>1860</td>\n",
       "      <td>29731</td>\n",
       "      <td>上強羅</td>\n",
       "      <td>139.038056</td>\n",
       "      <td>35.247306</td>\n",
       "      <td>None</td>\n",
       "      <td>NaN</td>\n",
       "      <td>NaN</td>\n",
       "    </tr>\n",
       "    <tr>\n",
       "      <th>1860</th>\n",
       "      <td>1861</td>\n",
       "      <td>29732</td>\n",
       "      <td>早雲山</td>\n",
       "      <td>139.035611</td>\n",
       "      <td>35.246444</td>\n",
       "      <td>None</td>\n",
       "      <td>NaN</td>\n",
       "      <td>NaN</td>\n",
       "    </tr>\n",
       "  </tbody>\n",
       "</table>\n",
       "<p>1861 rows × 8 columns</p>\n",
       "</div>"
      ],
      "text/plain": [
       "        id  station_id station_name         lon        lat  \\\n",
       "0        1       21764           黒磯  140.060204  36.970128   \n",
       "1        2       21785           高久  140.087346  36.996572   \n",
       "2        3       21765          黒田原  140.119586  37.022848   \n",
       "3        4       21802           豊原  140.155066  37.055014   \n",
       "4        5       22828           東京  139.766103  35.681391   \n",
       "...    ...         ...          ...         ...        ...   \n",
       "1856  1857       29728          公園下  139.045639  35.249944   \n",
       "1857  1858       29729          公園上  139.043167  35.249083   \n",
       "1858  1859       29730          中強羅  139.040556  35.248167   \n",
       "1859  1860       29731          上強羅  139.038056  35.247306   \n",
       "1860  1861       29732          早雲山  139.035611  35.246444   \n",
       "\n",
       "                                            tabelog_url  top10_avarage_score  \\\n",
       "0                                                  None                  NaN   \n",
       "1                                                  None                  NaN   \n",
       "2                                                  None                  NaN   \n",
       "3                                                  None                  NaN   \n",
       "4     https://tabelog.com/tokyo/A1302/A130201/R6586/...                3.942   \n",
       "...                                                 ...                  ...   \n",
       "1856                                               None                  NaN   \n",
       "1857                                               None                  NaN   \n",
       "1858                                               None                  NaN   \n",
       "1859                                               None                  NaN   \n",
       "1860                                               None                  NaN   \n",
       "\n",
       "      num_shop  \n",
       "0          NaN  \n",
       "1          NaN  \n",
       "2          NaN  \n",
       "3          NaN  \n",
       "4       2997.0  \n",
       "...        ...  \n",
       "1856       NaN  \n",
       "1857       NaN  \n",
       "1858       NaN  \n",
       "1859       NaN  \n",
       "1860       NaN  \n",
       "\n",
       "[1861 rows x 8 columns]"
      ]
     },
     "execution_count": 10,
     "metadata": {},
     "output_type": "execute_result"
    }
   ],
   "source": [
    "df_stations"
   ]
  },
  {
   "cell_type": "code",
   "execution_count": 8,
   "metadata": {},
   "outputs": [],
   "source": [
    "candidate_stations = df_stations.query(\"station_id in @station_ids\")"
   ]
  },
  {
   "cell_type": "code",
   "execution_count": 9,
   "metadata": {},
   "outputs": [
    {
     "data": {
      "text/html": [
       "<div>\n",
       "<style scoped>\n",
       "    .dataframe tbody tr th:only-of-type {\n",
       "        vertical-align: middle;\n",
       "    }\n",
       "\n",
       "    .dataframe tbody tr th {\n",
       "        vertical-align: top;\n",
       "    }\n",
       "\n",
       "    .dataframe thead th {\n",
       "        text-align: right;\n",
       "    }\n",
       "</style>\n",
       "<table border=\"1\" class=\"dataframe\">\n",
       "  <thead>\n",
       "    <tr style=\"text-align: right;\">\n",
       "      <th></th>\n",
       "      <th>id</th>\n",
       "      <th>station_id</th>\n",
       "      <th>station_name</th>\n",
       "      <th>lon</th>\n",
       "      <th>lat</th>\n",
       "      <th>tabelog_url</th>\n",
       "      <th>top10_avarage_score</th>\n",
       "      <th>num_shop</th>\n",
       "    </tr>\n",
       "  </thead>\n",
       "  <tbody>\n",
       "  </tbody>\n",
       "</table>\n",
       "</div>"
      ],
      "text/plain": [
       "Empty DataFrame\n",
       "Columns: [id, station_id, station_name, lon, lat, tabelog_url, top10_avarage_score, num_shop]\n",
       "Index: []"
      ]
     },
     "execution_count": 9,
     "metadata": {},
     "output_type": "execute_result"
    }
   ],
   "source": [
    "candidate_stations"
   ]
  },
  {
   "cell_type": "code",
   "execution_count": 19,
   "metadata": {},
   "outputs": [],
   "source": [
    "stations_master = list(Station.objects.all())"
   ]
  },
  {
   "cell_type": "code",
   "execution_count": 20,
   "metadata": {},
   "outputs": [],
   "source": [
    "for s in stations_master:\n",
    "    break"
   ]
  },
  {
   "cell_type": "code",
   "execution_count": 22,
   "metadata": {},
   "outputs": [],
   "source": [
    "s.num_shop"
   ]
  },
  {
   "cell_type": "code",
   "execution_count": 16,
   "metadata": {
    "scrolled": false
   },
   "outputs": [
    {
     "data": {
      "text/plain": [
       "1861"
      ]
     },
     "execution_count": 16,
     "metadata": {},
     "output_type": "execute_result"
    }
   ],
   "source": [
    "len(stations_master)"
   ]
  },
  {
   "cell_type": "code",
   "execution_count": null,
   "metadata": {},
   "outputs": [],
   "source": []
  },
  {
   "cell_type": "code",
   "execution_count": 17,
   "metadata": {},
   "outputs": [],
   "source": [
    "import Levenshtein"
   ]
  },
  {
   "cell_type": "code",
   "execution_count": 79,
   "metadata": {},
   "outputs": [],
   "source": [
    "for _, row in crawl.iterrows():\n",
    "    station_name = row['name'].replace(\"駅\", \"\")\n",
    "    qs = Station.objects.filter(station_name=station_name)\n",
    "    if qs.exists():\n",
    "        station = list(qs)[0]\n",
    "        station.tabelog_url = row['tabelog_url']\n",
    "        station.top10_avarage_score = row['top10_avarage_score']\n",
    "        station.num_shop = row['num_shop']\n",
    "        station.save()"
   ]
  },
  {
   "cell_type": "code",
   "execution_count": 23,
   "metadata": {},
   "outputs": [
    {
     "data": {
      "text/plain": [
       "1261"
      ]
     },
     "execution_count": 23,
     "metadata": {},
     "output_type": "execute_result"
    }
   ],
   "source": [
    "Station.objects.filter(tabelog_url__isnull=True).count()"
   ]
  },
  {
   "cell_type": "code",
   "execution_count": 24,
   "metadata": {},
   "outputs": [
    {
     "data": {
      "text/plain": [
       "600"
      ]
     },
     "execution_count": 24,
     "metadata": {},
     "output_type": "execute_result"
    }
   ],
   "source": [
    "Station.objects.filter(tabelog_url__isnull=False).count()"
   ]
  }
 ],
 "metadata": {
  "kernelspec": {
   "display_name": "Boozer Shell",
   "language": "python",
   "name": "django_extensions"
  },
  "language_info": {
   "codemirror_mode": {
    "name": "ipython",
    "version": 3
   },
   "file_extension": ".py",
   "mimetype": "text/x-python",
   "name": "python",
   "nbconvert_exporter": "python",
   "pygments_lexer": "ipython3",
   "version": "3.8.2"
  }
 },
 "nbformat": 4,
 "nbformat_minor": 4
}
