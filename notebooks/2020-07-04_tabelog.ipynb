{
 "cells": [
  {
   "cell_type": "code",
   "execution_count": 1,
   "metadata": {},
   "outputs": [],
   "source": [
    "from requests_html import HTMLSession\n",
    "import requests\n",
    "import numpy as np\n",
    "import re"
   ]
  },
  {
   "cell_type": "code",
   "execution_count": 31,
   "metadata": {},
   "outputs": [],
   "source": [
    "from dataclasses import dataclass, asdict"
   ]
  },
  {
   "cell_type": "code",
   "execution_count": 3,
   "metadata": {},
   "outputs": [],
   "source": [
    "s = HTMLSession()"
   ]
  },
  {
   "cell_type": "code",
   "execution_count": 4,
   "metadata": {},
   "outputs": [
    {
     "name": "stdout",
     "output_type": "stream",
     "text": [
      "2020-06-29_station_debug.ipynb sitemap_pc_cond_station_1.xml\r\n",
      "2020-07-04_tabelog.ipynb       sitemap_pc_rst_station_1.xml\r\n",
      "2020-07-12_Model.ipynb\r\n"
     ]
    }
   ],
   "source": [
    "!ls"
   ]
  },
  {
   "cell_type": "code",
   "execution_count": 5,
   "metadata": {},
   "outputs": [],
   "source": [
    "import xml.etree.ElementTree as ET\n",
    "with open(\"sitemap_pc_rst_station_1.xml\") as f:\n",
    "    tree = ET.parse(f)"
   ]
  },
  {
   "cell_type": "code",
   "execution_count": 6,
   "metadata": {},
   "outputs": [],
   "source": [
    "root = tree.getroot()"
   ]
  },
  {
   "cell_type": "code",
   "execution_count": 7,
   "metadata": {},
   "outputs": [],
   "source": [
    "items = list(root)"
   ]
  },
  {
   "cell_type": "code",
   "execution_count": 8,
   "metadata": {},
   "outputs": [],
   "source": [
    "urls = [list(item)[0].text for item in items]"
   ]
  },
  {
   "cell_type": "code",
   "execution_count": 9,
   "metadata": {},
   "outputs": [],
   "source": [
    "urls = [url for url in urls if \"tokyo\" in url]"
   ]
  },
  {
   "cell_type": "code",
   "execution_count": 10,
   "metadata": {},
   "outputs": [],
   "source": [
    "urls = list(set(urls))"
   ]
  },
  {
   "cell_type": "code",
   "execution_count": 11,
   "metadata": {},
   "outputs": [
    {
     "data": {
      "text/plain": [
       "649"
      ]
     },
     "execution_count": 11,
     "metadata": {},
     "output_type": "execute_result"
    }
   ],
   "source": [
    "len(urls)"
   ]
  },
  {
   "cell_type": "code",
   "execution_count": 12,
   "metadata": {},
   "outputs": [],
   "source": [
    "@dataclass\n",
    "class Station:\n",
    "    tabelog_url: str\n",
    "    name: str\n",
    "    top10_avarage_score: float\n",
    "    num_shop: int"
   ]
  },
  {
   "cell_type": "code",
   "execution_count": 13,
   "metadata": {},
   "outputs": [
    {
     "data": {
      "text/plain": [
       "['https://tabelog.com/tokyo/A1323/A132302/R5378/rstLst/',\n",
       " 'https://tabelog.com/tokyo/A1317/A131701/R10340/rstLst/',\n",
       " 'https://tabelog.com/tokyo/A1317/A131716/R4846/rstLst/',\n",
       " 'https://tabelog.com/tokyo/A1323/A132304/R4890/rstLst/',\n",
       " 'https://tabelog.com/tokyo/A1315/A131502/R8958/rstLst/',\n",
       " 'https://tabelog.com/tokyo/A1309/A130902/R10511/rstLst/',\n",
       " 'https://tabelog.com/tokyo/A1327/A132701/R9227/rstLst/',\n",
       " 'https://tabelog.com/tokyo/A1326/A132602/R6100/rstLst/',\n",
       " 'https://tabelog.com/tokyo/A1330/A133002/R1246/rstLst/',\n",
       " 'https://tabelog.com/tokyo/A1309/A130905/R2293/rstLst/']"
      ]
     },
     "execution_count": 13,
     "metadata": {},
     "output_type": "execute_result"
    }
   ],
   "source": [
    "urls[:10]"
   ]
  },
  {
   "cell_type": "code",
   "execution_count": 14,
   "metadata": {},
   "outputs": [],
   "source": [
    "params = dict(\n",
    "    SrtT=\"rt\", sort_mode=1, Srt=\"D\"\n",
    ")"
   ]
  },
  {
   "cell_type": "code",
   "execution_count": 15,
   "metadata": {},
   "outputs": [],
   "source": [
    "from time import sleep"
   ]
  },
  {
   "cell_type": "code",
   "execution_count": 16,
   "metadata": {},
   "outputs": [],
   "source": [
    "from tqdm import tqdm_notebook"
   ]
  },
  {
   "cell_type": "code",
   "execution_count": null,
   "metadata": {},
   "outputs": [],
   "source": [
    "errors = []\n",
    "stations = []"
   ]
  },
  {
   "cell_type": "code",
   "execution_count": 24,
   "metadata": {},
   "outputs": [],
   "source": [
    "tabelog_urls = [station.tabelog_url for station in stations]"
   ]
  },
  {
   "cell_type": "code",
   "execution_count": 26,
   "metadata": {},
   "outputs": [
    {
     "name": "stderr",
     "output_type": "stream",
     "text": [
      "<ipython-input-26-8c0109bbf12a>:1: TqdmDeprecationWarning: This function will be removed in tqdm==5.0.0\n",
      "Please use `tqdm.notebook.tqdm` instead of `tqdm.tqdm_notebook`\n",
      "  for url in tqdm_notebook(urls):\n"
     ]
    },
    {
     "data": {
      "application/vnd.jupyter.widget-view+json": {
       "model_id": "82909d86d48b492e92a3bf9435148932",
       "version_major": 2,
       "version_minor": 0
      },
      "text/plain": [
       "HBox(children=(FloatProgress(value=0.0, max=649.0), HTML(value='')))"
      ]
     },
     "metadata": {},
     "output_type": "display_data"
    },
    {
     "name": "stdout",
     "output_type": "stream",
     "text": [
      "\n"
     ]
    }
   ],
   "source": [
    "for url in tqdm_notebook(urls):\n",
    "    if url in tabelog_urls:\n",
    "        continue\n",
    "    try:\n",
    "        resp = s.get(url, params=params)\n",
    "        name = resp.html.find(\".list-sidebar__item-title\", first=True).text\n",
    "        ratings = resp.html.find(\".list-rst__rating-val\")\n",
    "        top10_avarage_score = np.mean([float(rating.text) for rating in ratings])\n",
    "        count = resp.html.find(\".c-page-count\", first=True).text\n",
    "        num_shop = re.findall(\"\\d+\", count)[-1]\n",
    "        station = Station(url, name, top10_avarage_score, num_shop)\n",
    "        stations.append(station)\n",
    "    except:\n",
    "        print(url)\n",
    "    sleep(1)"
   ]
  },
  {
   "cell_type": "code",
   "execution_count": 27,
   "metadata": {},
   "outputs": [
    {
     "name": "stdout",
     "output_type": "stream",
     "text": [
      "Stored 'stations' (list)\n"
     ]
    }
   ],
   "source": [
    "%store stations"
   ]
  },
  {
   "cell_type": "code",
   "execution_count": 33,
   "metadata": {},
   "outputs": [],
   "source": [
    "dict_stations = [asdict(s) for s in stations]"
   ]
  },
  {
   "cell_type": "code",
   "execution_count": 38,
   "metadata": {},
   "outputs": [
    {
     "name": "stdout",
     "output_type": "stream",
     "text": [
      "Requirement already satisfied: pip in /Users/yutaro/ghq/ikedaosushi-github.com/ikedaosushi/boozer-api/venv/lib/python3.8/site-packages (20.1.1)\n",
      "Collecting install\n",
      "  Downloading install-1.3.3-py3-none-any.whl (3.1 kB)\n",
      "Collecting python-Levenshtein\n",
      "  Downloading python-Levenshtein-0.12.0.tar.gz (48 kB)\n",
      "\u001b[K     |████████████████████████████████| 48 kB 24 kB/s eta 0:00:01\n",
      "\u001b[?25hRequirement already satisfied: setuptools in /Users/yutaro/ghq/ikedaosushi-github.com/ikedaosushi/boozer-api/venv/lib/python3.8/site-packages (from python-Levenshtein) (41.2.0)\n",
      "Using legacy setup.py install for python-Levenshtein, since package 'wheel' is not installed.\n",
      "Installing collected packages: install, python-Levenshtein\n",
      "    Running setup.py install for python-Levenshtein ... \u001b[?25ldone\n",
      "\u001b[?25hSuccessfully installed install-1.3.3 python-Levenshtein-0.12.0\n"
     ]
    }
   ],
   "source": [
    "!pip install pip install python-Levenshtein"
   ]
  },
  {
   "cell_type": "code",
   "execution_count": 39,
   "metadata": {},
   "outputs": [
    {
     "ename": "ModuleNotFoundError",
     "evalue": "No module named 'Levenshtein'",
     "output_type": "error",
     "traceback": [
      "\u001b[0;31m---------------------------------------------------------------------------\u001b[0m",
      "\u001b[0;31mModuleNotFoundError\u001b[0m                       Traceback (most recent call last)",
      "\u001b[0;32m<ipython-input-39-4945bd004c73>\u001b[0m in \u001b[0;36m<module>\u001b[0;34m\u001b[0m\n\u001b[0;32m----> 1\u001b[0;31m \u001b[0;32mimport\u001b[0m \u001b[0mLevenshtein\u001b[0m\u001b[0;34m\u001b[0m\u001b[0;34m\u001b[0m\u001b[0m\n\u001b[0m",
      "\u001b[0;31mModuleNotFoundError\u001b[0m: No module named 'Levenshtein'"
     ]
    }
   ],
   "source": [
    "import Levenshtein"
   ]
  },
  {
   "cell_type": "code",
   "execution_count": null,
   "metadata": {},
   "outputs": [],
   "source": [
    "Levenshtein.distance('Rievenstein', 'Levenshtein')"
   ]
  },
  {
   "cell_type": "code",
   "execution_count": 35,
   "metadata": {},
   "outputs": [],
   "source": [
    "import pandas as pd"
   ]
  },
  {
   "cell_type": "code",
   "execution_count": 37,
   "metadata": {},
   "outputs": [],
   "source": [
    "pd.DataFrame(dict_stations).to_csv(\"tmp.csv\", index=False)"
   ]
  }
 ],
 "metadata": {
  "kernelspec": {
   "display_name": "Boozer Shell",
   "language": "python",
   "name": "django_extensions"
  },
  "language_info": {
   "codemirror_mode": {
    "name": "ipython",
    "version": 3
   },
   "file_extension": ".py",
   "mimetype": "text/x-python",
   "name": "python",
   "nbconvert_exporter": "python",
   "pygments_lexer": "ipython3",
   "version": "3.8.2"
  }
 },
 "nbformat": 4,
 "nbformat_minor": 4
}
